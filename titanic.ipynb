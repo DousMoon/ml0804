{
  "nbformat": 4,
  "nbformat_minor": 0,
  "metadata": {
    "colab": {
      "name": "titanic.ipynb",
      "provenance": [],
      "private_outputs": true,
      "authorship_tag": "ABX9TyPnQcG47IXXk/LKVqVGvRb2",
      "include_colab_link": true
    },
    "kernelspec": {
      "name": "python3",
      "display_name": "Python 3"
    }
  },
  "cells": [
    {
      "cell_type": "markdown",
      "metadata": {
        "id": "view-in-github",
        "colab_type": "text"
      },
      "source": [
        "<a href=\"https://colab.research.google.com/github/DousMoon/ml0804/blob/master/titanic.ipynb\" target=\"_parent\"><img src=\"https://colab.research.google.com/assets/colab-badge.svg\" alt=\"Open In Colab\"/></a>"
      ]
    },
    {
      "cell_type": "code",
      "metadata": {
        "id": "rx97yY8zOYrg",
        "colab_type": "code",
        "colab": {}
      },
      "source": [
        "from urllib.request import urlretrieve\n",
        "url = \"https://github.com/Elwing-Chou/ml0804/raw/master/train.csv\"\n",
        "urlretrieve(url, \"train.csv\")\n",
        "url = \"https://github.com/Elwing-Chou/ml0804/raw/master/test.csv\"\n",
        "urlretrieve(url, \"test.csv\")"
      ],
      "execution_count": null,
      "outputs": []
    },
    {
      "cell_type": "code",
      "metadata": {
        "id": "vVUOWQChPBJc",
        "colab_type": "code",
        "colab": {}
      },
      "source": [
        "import pandas as pd\n",
        "train_df = pd.read_csv(\"train.csv\", encoding=\"utf-8\")\n",
        "train_df"
      ],
      "execution_count": null,
      "outputs": []
    },
    {
      "cell_type": "code",
      "metadata": {
        "id": "JMm-SjLxPRs7",
        "colab_type": "code",
        "colab": {}
      },
      "source": [
        "test_df = pd.read_csv(\"test.csv\", encoding=\"utf-8\")\n",
        "test_df"
      ],
      "execution_count": null,
      "outputs": []
    },
    {
      "cell_type": "code",
      "metadata": {
        "id": "Des90ZvxP2M7",
        "colab_type": "code",
        "colab": {}
      },
      "source": [
        "# concat: axis!\n",
        "import pandas as pd\n",
        "datas = pd.concat([train_df,test_df]).reset_index(drop=True)\n",
        "datas = datas.drop([\"PassengerId\",\"Survived\"],axis=1)\n",
        "datas"
      ],
      "execution_count": null,
      "outputs": []
    },
    {
      "cell_type": "code",
      "metadata": {
        "id": "aGnyr4VuRQHG",
        "colab_type": "code",
        "colab": {}
      },
      "source": [
        "s = datas.isna().sum() # isna沒有值=True\n",
        "s[s>0].sort_values(ascending=False) # 大到小:s[s>0].sort_values(ascending = False)"
      ],
      "execution_count": null,
      "outputs": []
    },
    {
      "cell_type": "code",
      "metadata": {
        "id": "Vneb1OWxabZE",
        "colab_type": "code",
        "colab": {}
      },
      "source": [
        "# unique/value_counts\n",
        "# 類別請補最常出現\n",
        "most = datas[\"Embarked\"].value_counts().idxmax()\n",
        "datas[\"Embarked\"] = datas[\"Embarked\"].fillna(most)"
      ],
      "execution_count": null,
      "outputs": []
    },
    {
      "cell_type": "code",
      "metadata": {
        "id": "KSfXM1AKcpxC",
        "colab_type": "code",
        "colab": {}
      },
      "source": [
        "# 數值補中位數\n",
        "med = datas.median().drop([\"Pclass\"])\n",
        "datas = datas.fillna(med)\n",
        "med"
      ],
      "execution_count": null,
      "outputs": []
    },
    {
      "cell_type": "code",
      "metadata": {
        "id": "Tyy5c_Ung1pi",
        "colab_type": "code",
        "colab": {}
      },
      "source": [
        "# apply:\n",
        "def cabin(s):\n",
        "  if not pd.isna(s):\n",
        "    return s[0]\n",
        "  else:\n",
        "    return None\n",
        "datas[\"Cabin\"] = datas[\"Cabin\"].apply(cabin)\n"
      ],
      "execution_count": null,
      "outputs": []
    },
    {
      "cell_type": "code",
      "metadata": {
        "id": "PNUoEf_ziBZR",
        "colab_type": "code",
        "colab": {}
      },
      "source": [
        "v = datas[\"Ticket\"].value_counts()\n",
        "def ticket(s):\n",
        "    global v\n",
        "    return v[s]\n",
        "datas[\"Ticket\"] = datas[\"Ticket\"].apply(ticket)"
      ],
      "execution_count": null,
      "outputs": []
    },
    {
      "cell_type": "code",
      "metadata": {
        "id": "r8beGzUtjy1A",
        "colab_type": "code",
        "colab": {}
      },
      "source": [
        "def name(s):\n",
        "  return s.split(\".\")[0].split(\",\")[-1].strip()\n",
        "n = datas[\"Name\"].apply(name).value_counts()\n",
        "whitelist = n[:4]"
      ],
      "execution_count": null,
      "outputs": []
    },
    {
      "cell_type": "code",
      "metadata": {
        "id": "mLFCDNA9lCwQ",
        "colab_type": "code",
        "colab": {}
      },
      "source": [
        "def name2(s):\n",
        "    mid = s.split(\".\")[0].split(\",\")[-1].strip()\n",
        "    if mid in whitelist:\n",
        "        return mid\n",
        "    else:\n",
        "        return None\n",
        "datas[\"Name\"] = datas[\"Name\"].apply(name2)\n",
        "datas"
      ],
      "execution_count": null,
      "outputs": []
    },
    {
      "cell_type": "code",
      "metadata": {
        "id": "hzbPFEsEo8zu",
        "colab_type": "code",
        "colab": {}
      },
      "source": [
        "# 指定做:colimns[\"Cabin\"]\n",
        "datas = pd.get_dummies(datas)\n",
        "datas"
      ],
      "execution_count": null,
      "outputs": []
    },
    {
      "cell_type": "code",
      "metadata": {
        "id": "krYm7N0muVF8",
        "colab_type": "code",
        "colab": {}
      },
      "source": [
        "# 新增自訂欄位\n",
        "datas[\"Family\"] = datas[\"SibSp\"]+datas[\"Parch\"]\n",
        "# datas"
      ],
      "execution_count": null,
      "outputs": []
    },
    {
      "cell_type": "code",
      "metadata": {
        "id": "0kNjjb58nILn",
        "colab_type": "code",
        "colab": {}
      },
      "source": [
        "# .iloc取列 [第一列, 第二列, 第三列...]\n",
        "# 0~len-1\n",
        "x_train = datas.iloc[:len(train_df)]\n",
        "x_predict = datas.iloc[len(train_df):]\n",
        "y_train = train_df[\"Survived\"]"
      ],
      "execution_count": null,
      "outputs": []
    },
    {
      "cell_type": "code",
      "metadata": {
        "id": "6h1K7sNAyGP8",
        "colab_type": "code",
        "colab": {}
      },
      "source": [
        "from sklearn.ensemble import RandomForestClassifier\n",
        "from sklearn.model_selection import GridSearchCV\n",
        "clf = RandomForestClassifier(random_state=0)\n",
        "params = {\n",
        "  \"n_estimators\":range(20, 100),\n",
        "  \"max_depth\":range(5, 10)\n",
        "}\n",
        "grid = GridSearchCV(clf, params, cv=10, n_jobs=-1)\n",
        "grid.fit(x_train, y_train)\n",
        "print(grid.best_params_)\n",
        "print(grid.best_score_)"
      ],
      "execution_count": null,
      "outputs": []
    },
    {
      "cell_type": "code",
      "metadata": {
        "id": "pb6TilS4osXQ",
        "colab_type": "code",
        "colab": {}
      },
      "source": [
        "from sklearn.model_selection import cross_val_score\n",
        "from sklearn.ensemble import RandomForestClassifier\n",
        "import numpy as np\n",
        "clf = RandomForestClassifier(n_estimators=37, max_depth=6)\n",
        "scores = cross_val_score(clf, x_train, y_train, cv=10, n_jobs=-1)\n",
        "print(\"[10]:\",scores)\n",
        "print(\"average:\",np.average(scores))"
      ],
      "execution_count": null,
      "outputs": []
    },
    {
      "cell_type": "code",
      "metadata": {
        "id": "3Rdk9Uh85CGq",
        "colab_type": "code",
        "colab": {}
      },
      "source": [
        "clf = RandomForestClassifier(n_estimators=37,max_depth=6)\n",
        "clf.fit(x_train, y_train)\n",
        "pre = clf.predict(x_predict)\n",
        "ans =  pd.DataFrame({\n",
        "    \"PassengerId\":test_df[\"PassengerId\"],\n",
        "    \"Survived\":pre\n",
        "})\n",
        "ans.to_csv(\"rf.csv\",encoding=\"utf-8\",index=False)\n",
        "ans"
      ],
      "execution_count": null,
      "outputs": []
    }
  ]
}