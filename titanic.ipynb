{
  "nbformat": 4,
  "nbformat_minor": 0,
  "metadata": {
    "colab": {
      "name": "titanic.ipynb",
      "provenance": [],
      "private_outputs": true,
      "authorship_tag": "ABX9TyM70OjgCZ542I6uHzueg/0n",
      "include_colab_link": true
    },
    "kernelspec": {
      "name": "python3",
      "display_name": "Python 3"
    }
  },
  "cells": [
    {
      "cell_type": "markdown",
      "metadata": {
        "id": "view-in-github",
        "colab_type": "text"
      },
      "source": [
        "<a href=\"https://colab.research.google.com/github/DousMoon/ml0804/blob/master/titanic.ipynb\" target=\"_parent\"><img src=\"https://colab.research.google.com/assets/colab-badge.svg\" alt=\"Open In Colab\"/></a>"
      ]
    },
    {
      "cell_type": "code",
      "metadata": {
        "id": "rx97yY8zOYrg",
        "colab_type": "code",
        "colab": {}
      },
      "source": [
        "from urllib.request import urlretrieve\n",
        "url = \"https://github.com/Elwing-Chou/ml0804/raw/master/train.csv\"\n",
        "urlretrieve(url, \"train.csv\")\n",
        "url = \"https://github.com/Elwing-Chou/ml0804/raw/master/test.csv\"\n",
        "urlretrieve(url, \"test.csv\")"
      ],
      "execution_count": null,
      "outputs": []
    },
    {
      "cell_type": "code",
      "metadata": {
        "id": "vVUOWQChPBJc",
        "colab_type": "code",
        "colab": {}
      },
      "source": [
        "import pandas as pd\n",
        "train_df = pd.read_csv(\"train.csv\", encoding=\"utf-8\")\n",
        "train_df"
      ],
      "execution_count": null,
      "outputs": []
    },
    {
      "cell_type": "code",
      "metadata": {
        "id": "JMm-SjLxPRs7",
        "colab_type": "code",
        "colab": {}
      },
      "source": [
        "test_df = pd.read_csv(\"test.csv\", encoding=\"utf-8\")\n",
        "test_df"
      ],
      "execution_count": null,
      "outputs": []
    },
    {
      "cell_type": "code",
      "metadata": {
        "id": "Des90ZvxP2M7",
        "colab_type": "code",
        "colab": {}
      },
      "source": [
        "# concat: axis!\n",
        "import pandas as pd\n",
        "datas = pd.concat([train_df,test_df]).reset_index(drop=True)\n",
        "datas = datas.drop([\"PassengerId\",\"Survived\"],axis=1)\n",
        "datas"
      ],
      "execution_count": null,
      "outputs": []
    },
    {
      "cell_type": "code",
      "metadata": {
        "id": "aGnyr4VuRQHG",
        "colab_type": "code",
        "colab": {}
      },
      "source": [
        "s = datas.isna().sum() # isna沒有值=True\n",
        "s[s>0].sort_values() # 大到小:s[s>0].sort_values(ascending = False)"
      ],
      "execution_count": null,
      "outputs": []
    },
    {
      "cell_type": "code",
      "metadata": {
        "id": "Vneb1OWxabZE",
        "colab_type": "code",
        "colab": {}
      },
      "source": [
        "# unique/value_counts\n",
        "# 類別請補最常出現\n",
        "most = datas[\"Embarked\"].value_counts().idxmax()\n",
        "datas[\"Embarked\"] = datas[\"Embarked\"].fillna(most)"
      ],
      "execution_count": null,
      "outputs": []
    },
    {
      "cell_type": "code",
      "metadata": {
        "id": "KSfXM1AKcpxC",
        "colab_type": "code",
        "colab": {}
      },
      "source": [
        "# 數值補中位數\n",
        "med = datas.median().drop([\"Pclass\"])\n",
        "datas.fillna(med)"
      ],
      "execution_count": null,
      "outputs": []
    },
    {
      "cell_type": "code",
      "metadata": {
        "id": "Tyy5c_Ung1pi",
        "colab_type": "code",
        "colab": {}
      },
      "source": [
        "# apply:\n",
        "def cabin(s):\n",
        "  if not pd.isna(s):\n",
        "    return s[0]\n",
        "  else:\n",
        "    return None\n",
        "datas[\"Cabin\"] = datas[\"Cabin\"].apply(cabin)"
      ],
      "execution_count": null,
      "outputs": []
    },
    {
      "cell_type": "code",
      "metadata": {
        "id": "PNUoEf_ziBZR",
        "colab_type": "code",
        "colab": {}
      },
      "source": [
        "v = datas[\"Ticket\"].value_counts()\n",
        "def ticket(s):\n",
        "    global v\n",
        "    return v[s]\n",
        "datas[\"Ticket\"] = datas[\"Ticket\"].apply(ticket)"
      ],
      "execution_count": null,
      "outputs": []
    }
  ]
}