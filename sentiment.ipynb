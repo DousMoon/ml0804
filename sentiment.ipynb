{
  "nbformat": 4,
  "nbformat_minor": 0,
  "metadata": {
    "colab": {
      "name": "sentiment.ipynb",
      "provenance": [],
      "private_outputs": true,
      "authorship_tag": "ABX9TyPbMIcyNBJnwUt0h3jPMovI",
      "include_colab_link": true
    },
    "kernelspec": {
      "name": "python3",
      "display_name": "Python 3"
    }
  },
  "cells": [
    {
      "cell_type": "markdown",
      "metadata": {
        "id": "view-in-github",
        "colab_type": "text"
      },
      "source": [
        "<a href=\"https://colab.research.google.com/github/DousMoon/ml0804/blob/master/sentiment.ipynb\" target=\"_parent\"><img src=\"https://colab.research.google.com/assets/colab-badge.svg\" alt=\"Open In Colab\"/></a>"
      ]
    },
    {
      "cell_type": "code",
      "metadata": {
        "id": "i5yGmwHjJ4ci",
        "colab_type": "code",
        "colab": {}
      },
      "source": [
        "import tensorflow as tf\n",
        "\n",
        "dataset = tf.keras.utils.get_file(\n",
        "    fname=\"aclImdb.tar.gz\", \n",
        "    origin=\"http://ai.stanford.edu/~amaas/data/sentiment/aclImdb_v1.tar.gz\", \n",
        "    extract=True,\n",
        ")\n",
        "print(\"extract on:\", dataset)"
      ],
      "execution_count": null,
      "outputs": []
    },
    {
      "cell_type": "code",
      "metadata": {
        "id": "qF7-kwogLDjx",
        "colab_type": "code",
        "colab": {}
      },
      "source": [
        "import pandas as pd\n",
        "import glob\n",
        "import os\n",
        "def getdata(dataset, t):\n",
        "  dn = os.path.dirname(dataset)\n",
        "  dn = os.path.join(dn, \"aclImdb\", t)\n",
        "  pos = glob.glob(os.path.join(dn, \"pos\", \"*.txt\")) + glob.glob(os.path.join(dn, \"pos\", \"*.TXT\"))\n",
        "  neg = glob.glob(os.path.join(dn, \"neg\", \"*.txt\")) + glob.glob(os.path.join(dn, \"neg\", \"*.TXT\"))\n",
        "  contents = []\n",
        "  for fn in pos + neg:\n",
        "    with open(fn, encoding=\"utf-8\") as f:\n",
        "      contents.append(f.read())\n",
        "  df = pd.DataFrame({\n",
        "      \"content\":contents,\n",
        "      \"sentiment\":[1] * len(pos) +[0] * len(neg)\n",
        "  })\n",
        "  return df\n",
        "train_df = getdata(dataset, \"train\")\n",
        "test_df = getdata(dataset, \"test\")\n",
        "train_df"
      ],
      "execution_count": null,
      "outputs": []
    },
    {
      "cell_type": "code",
      "metadata": {
        "id": "CvFv5DnNOe6t",
        "colab_type": "code",
        "colab": {}
      },
      "source": [
        "# (中文): 分詞, 空白鍵.join()\n",
        "# 欲處裡第一步: tokenizer, 第二步: 長度固定(截長補短)\n",
        "from tensorflow.keras.preprocessing.text import Tokenizer\n",
        "tok = Tokenizer(num_words=3000)\n",
        "tok.fit_on_texts(train_df[\"content\"])"
      ],
      "execution_count": null,
      "outputs": []
    },
    {
      "cell_type": "code",
      "metadata": {
        "id": "Imw0n4AtThqb",
        "colab_type": "code",
        "colab": {}
      },
      "source": [
        "# token不會包含0 0要用在padding\n",
        "tok.word_index\n",
        "len(tok.word_index)"
      ],
      "execution_count": null,
      "outputs": []
    }
  ]
}