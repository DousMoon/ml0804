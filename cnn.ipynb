{
  "nbformat": 4,
  "nbformat_minor": 0,
  "metadata": {
    "colab": {
      "name": "cnn.ipynb",
      "provenance": [],
      "authorship_tag": "ABX9TyPnrUQETpEb4uWBLgy4uVIj",
      "include_colab_link": true
    },
    "kernelspec": {
      "name": "python3",
      "display_name": "Python 3"
    },
    "accelerator": "GPU"
  },
  "cells": [
    {
      "cell_type": "markdown",
      "metadata": {
        "id": "view-in-github",
        "colab_type": "text"
      },
      "source": [
        "<a href=\"https://colab.research.google.com/github/DousMoon/ml0804/blob/master/cnn.ipynb\" target=\"_parent\"><img src=\"https://colab.research.google.com/assets/colab-badge.svg\" alt=\"Open In Colab\"/></a>"
      ]
    },
    {
      "cell_type": "code",
      "metadata": {
        "id": "PWN6QGPHoHjY",
        "colab_type": "code",
        "colab": {}
      },
      "source": [
        "from tensorflow.keras.datasets.cifar10 import load_data\n",
        "(x_train, y_train), (x_test, y_test) = load_data()"
      ],
      "execution_count": null,
      "outputs": []
    },
    {
      "cell_type": "code",
      "metadata": {
        "id": "n0o39QaTGADX",
        "colab_type": "code",
        "colab": {
          "base_uri": "https://localhost:8080/",
          "height": 86
        },
        "outputId": "1989df32-d3c0-43d6-ba7e-f91988d8bc93"
      },
      "source": [
        "print(x_train.shape)\n",
        "print(y_train.shape)\n",
        "print(x_test.shape)\n",
        "print(y_test.shape)"
      ],
      "execution_count": 2,
      "outputs": [
        {
          "output_type": "stream",
          "text": [
            "(50000, 32, 32, 3)\n",
            "(50000, 1)\n",
            "(10000, 32, 32, 3)\n",
            "(10000, 1)\n"
          ],
          "name": "stdout"
        }
      ]
    },
    {
      "cell_type": "code",
      "metadata": {
        "id": "YnYh8f46G-6n",
        "colab_type": "code",
        "colab": {}
      },
      "source": [
        "trans = [\"airplane\",\t\t\t\t\t\t\t\t\t\t\n",
        "      \"automobile\",\t\t\t\t\t\t\t\t\t\t\n",
        "      \"bird\",\t\t\t\t\t\t\t\t\t\t\n",
        "      \"cat\",\t\t\t\t\t\t\t\t\t\t\n",
        "      \"deer\",\t\t\t\t\t\t\t\t\t\t\n",
        "      \"dog\",\t\t\t\t\t\t\t\t\t\t\n",
        "      \"frog\",\t\t\t\t\t\t\t\t\t\t\n",
        "      \"horse\",\t\t\t\t\t\t\t\t\t\t\n",
        "      \"ship\",\t\t\t\t\t\t\t\t\t\t\n",
        "      \"truck\"]"
      ],
      "execution_count": 3,
      "outputs": []
    },
    {
      "cell_type": "code",
      "metadata": {
        "id": "bhS4LaRWHUyk",
        "colab_type": "code",
        "colab": {
          "base_uri": "https://localhost:8080/",
          "height": 301
        },
        "outputId": "1b7687c0-a73c-4ec4-f5ec-35e0a8e2a361"
      },
      "source": [
        "import matplotlib.pyplot as plt\n",
        "import random\n",
        "idx = random.randint(0, x_train.shape[0])\n",
        "print(\"答案:\", trans[y_train[idx][0]])\n",
        "plt.imshow(x_train[idx])"
      ],
      "execution_count": 4,
      "outputs": [
        {
          "output_type": "stream",
          "text": [
            "答案: cat\n"
          ],
          "name": "stdout"
        },
        {
          "output_type": "execute_result",
          "data": {
            "text/plain": [
              "<matplotlib.image.AxesImage at 0x7f3e9d1bba90>"
            ]
          },
          "metadata": {
            "tags": []
          },
          "execution_count": 4
        },
        {
          "output_type": "display_data",
          "data": {
            "image/png": "[encoded data removed]",
            "text/plain": [
              "<Figure size 432x288 with 1 Axes>"
            ]
          },
          "metadata": {
            "tags": [],
            "needs_background": "light"
          }
        }
      ]
    },
    {
      "cell_type": "code",
      "metadata": {
        "id": "GlobkDrXJXP8",
        "colab_type": "code",
        "colab": {}
      },
      "source": [
        "# stride2 捲積 = conv+pooling (捲積+池化最好)\n",
        "# Dropout 刻意丟掉約0.25~0.5\n",
        "from tensorflow.keras.layers import Conv2D, MaxPooling2D\n",
        "from tensorflow.keras.layers import Flatten, Dense, Dropout\n",
        "from tensorflow.keras.models import Sequential\n",
        "layers = [\n",
        "      Conv2D(64, 3, padding=\"same\", activation=\"relu\", input_shape=(32, 32, 3)),\n",
        "      MaxPooling2D(),\n",
        "      Conv2D(128, 3, padding=\"same\", activation=\"relu\"),\n",
        "      MaxPooling2D(),\n",
        "      Conv2D(256, 3, padding=\"same\", activation=\"relu\"),\n",
        "      MaxPooling2D(),\n",
        "      Flatten(),\n",
        "      Dense(512, activation=\"relu\"),\n",
        "      Dropout(0.25),\n",
        "      Dense(10, activation=\"softmax\")\n",
        "]\n",
        "model = Sequential(layers)\n",
        "model.summary()"
      ],
      "execution_count": null,
      "outputs": []
    },
    {
      "cell_type": "code",
      "metadata": {
        "id": "6uCIu_rMid8N",
        "colab_type": "code",
        "colab": {}
      },
      "source": [
        "from tensorflow.keras.losses import SparseCategoricalCrossentropy\n",
        "model.compile(loss=SparseCategoricalCrossentropy(),\n",
        "        optimizer=\"adam\",\n",
        "        metrics=[\"accuracy\"])"
      ],
      "execution_count": 21,
      "outputs": []
    },
    {
      "cell_type": "code",
      "metadata": {
        "id": "snGix-RkjvCd",
        "colab_type": "code",
        "colab": {}
      },
      "source": [
        "x_train_norm = x_train/255\n",
        "x_test_norm = x_test/255"
      ],
      "execution_count": 22,
      "outputs": []
    },
    {
      "cell_type": "code",
      "metadata": {
        "id": "q-dR1kRyj900",
        "colab_type": "code",
        "colab": {
          "base_uri": "https://localhost:8080/",
          "height": 521
        },
        "outputId": "ace0dbc8-c156-4880-cebe-7a77fe95e813"
      },
      "source": [
        "# batch:看幾筆在調整一次(20-200)\n",
        "# epochs:整份訓練資料看幾遍 (10->60000*10)\n",
        "# verbose: 0(quite), 1(default), 2(best)\n",
        "from tensorflow.keras.callbacks import ModelCheckpoint,EarlyStopping\n",
        "callbacks =[\n",
        "       ModelCheckpoint(\"cnn.h5\", save_best_only=True),\n",
        "       EarlyStopping(patience=5, restore_best_weights=True)\n",
        "      ]\n",
        "model.fit(x_train_norm,\n",
        "     y_train,\n",
        "     validation_split=0.1,\n",
        "     batch_size=200,\n",
        "     epochs=100,\n",
        "     verbose=2,\n",
        "     callbacks=callbacks)"
      ],
      "execution_count": 23,
      "outputs": [
        {
          "output_type": "stream",
          "text": [
            "Epoch 1/100\n",
            "WARNING:tensorflow:Callbacks method `on_train_batch_end` is slow compared to the batch time (batch time: 0.0035s vs `on_train_batch_end` time: 0.0162s). Check your callbacks.\n",
            "225/225 - 3s - loss: 1.5592 - accuracy: 0.4332 - val_loss: 1.1930 - val_accuracy: 0.5762\n",
            "Epoch 2/100\n",
            "225/225 - 3s - loss: 1.1053 - accuracy: 0.6090 - val_loss: 0.9448 - val_accuracy: 0.6686\n",
            "Epoch 3/100\n",
            "225/225 - 3s - loss: 0.8990 - accuracy: 0.6834 - val_loss: 0.8235 - val_accuracy: 0.7104\n",
            "Epoch 4/100\n",
            "225/225 - 3s - loss: 0.7818 - accuracy: 0.7261 - val_loss: 0.8091 - val_accuracy: 0.7216\n",
            "Epoch 5/100\n",
            "225/225 - 3s - loss: 0.6698 - accuracy: 0.7663 - val_loss: 0.7157 - val_accuracy: 0.7560\n",
            "Epoch 6/100\n",
            "225/225 - 3s - loss: 0.5909 - accuracy: 0.7947 - val_loss: 0.6969 - val_accuracy: 0.7614\n",
            "Epoch 7/100\n",
            "225/225 - 3s - loss: 0.5012 - accuracy: 0.8249 - val_loss: 0.6987 - val_accuracy: 0.7624\n",
            "Epoch 8/100\n",
            "225/225 - 3s - loss: 0.4345 - accuracy: 0.8491 - val_loss: 0.6761 - val_accuracy: 0.7768\n",
            "Epoch 9/100\n",
            "225/225 - 3s - loss: 0.3546 - accuracy: 0.8757 - val_loss: 0.6783 - val_accuracy: 0.7864\n",
            "Epoch 10/100\n",
            "225/225 - 3s - loss: 0.2953 - accuracy: 0.8980 - val_loss: 0.7661 - val_accuracy: 0.7750\n",
            "Epoch 11/100\n",
            "225/225 - 3s - loss: 0.2382 - accuracy: 0.9162 - val_loss: 0.7834 - val_accuracy: 0.7744\n",
            "Epoch 12/100\n",
            "225/225 - 3s - loss: 0.1889 - accuracy: 0.9337 - val_loss: 0.8098 - val_accuracy: 0.7760\n",
            "Epoch 13/100\n",
            "225/225 - 3s - loss: 0.1548 - accuracy: 0.9456 - val_loss: 0.8103 - val_accuracy: 0.7892\n"
          ],
          "name": "stdout"
        },
        {
          "output_type": "execute_result",
          "data": {
            "text/plain": [
              "<tensorflow.python.keras.callbacks.History at 0x7f3e38f1e550>"
            ]
          },
          "metadata": {
            "tags": []
          },
          "execution_count": 23
        }
      ]
    },
    {
      "cell_type": "code",
      "metadata": {
        "id": "Z-YHEHCPkhHE",
        "colab_type": "code",
        "colab": {
          "base_uri": "https://localhost:8080/",
          "height": 52
        },
        "outputId": "f81605b5-fdb9-4cf1-8f19-8ce1c3eaa504"
      },
      "source": [
        "model.evaluate(x_test_norm, y_test)"
      ],
      "execution_count": 24,
      "outputs": [
        {
          "output_type": "stream",
          "text": [
            "313/313 [==============================] - 1s 3ms/step - loss: 0.7211 - accuracy: 0.7628\n"
          ],
          "name": "stdout"
        },
        {
          "output_type": "execute_result",
          "data": {
            "text/plain": [
              "[0.7210572957992554, 0.7627999782562256]"
            ]
          },
          "metadata": {
            "tags": []
          },
          "execution_count": 24
        }
      ]
    }
  ]
}