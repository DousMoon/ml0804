{
  "nbformat": 4,
  "nbformat_minor": 0,
  "metadata": {
    "colab": {
      "name": "tools.ipynb",
      "provenance": [],
      "private_outputs": true,
      "authorship_tag": "ABX9TyNZdzvzBsJg2bj7LHRCDnMK",
      "include_colab_link": true
    },
    "kernelspec": {
      "name": "python3",
      "display_name": "Python 3"
    }
  },
  "cells": [
    {
      "cell_type": "markdown",
      "metadata": {
        "id": "view-in-github",
        "colab_type": "text"
      },
      "source": [
        "<a href=\"https://colab.research.google.com/github/DousMoon/ml0804/blob/master/tools.ipynb\" target=\"_parent\"><img src=\"https://colab.research.google.com/assets/colab-badge.svg\" alt=\"Open In Colab\"/></a>"
      ]
    },
    {
      "cell_type": "code",
      "metadata": {
        "id": "iUFYZqSd4kiO",
        "colab_type": "code",
        "colab": {}
      },
      "source": [
        "!pip install opencc-python-reimplemented"
      ],
      "execution_count": null,
      "outputs": []
    },
    {
      "cell_type": "code",
      "metadata": {
        "id": "v5jwtXMl5fDS",
        "colab_type": "code",
        "colab": {}
      },
      "source": [
        "from opencc import OpenCC\n",
        "cc = OpenCC('s2twp')\n",
        "to_convert = '开放中文转换'\n",
        "convert = cc.convert(to_convert)\n",
        "convert"
      ],
      "execution_count": null,
      "outputs": []
    },
    {
      "cell_type": "code",
      "metadata": {
        "id": "yKU4KmVO8psH",
        "colab_type": "code",
        "colab": {}
      },
      "source": [
        "import jieba\n",
        "# 下載擴充包至此檔案\n",
        "from urllib.request import urlretrieve\n",
        "url=\"https://github.com/fxsjy/jieba/raw/master/extra_dict/dict.txt.big\"\n",
        "urlretrieve(url, \"dict.txt.big\")\n",
        "jieba.set_dictionary(\"dict.txt.big\")\n",
        "# 載入自己的辭典 拉進此檔案內即可\n",
        "# jieba.load_userdict(\"xxx\")\n",
        "\n",
        "# 於每個分段加上空白字元\n",
        "\" \".join(jieba.cut(convert))"
      ],
      "execution_count": null,
      "outputs": []
    },
    {
      "cell_type": "code",
      "metadata": {
        "id": "hUBOuMPRZwtr",
        "colab_type": "code",
        "colab": {}
      },
      "source": [
        "import jieba.analyse\n",
        "jieba.analyse.extract_tags(convert)"
      ],
      "execution_count": null,
      "outputs": []
    }
  ]
}