{
  "nbformat": 4,
  "nbformat_minor": 0,
  "metadata": {
    "colab": {
      "name": "tools.ipynb",
      "provenance": [],
      "private_outputs": true,
      "authorship_tag": "ABX9TyOuLedzEi5EdjjLVzzIiDGx",
      "include_colab_link": true
    },
    "kernelspec": {
      "name": "python3",
      "display_name": "Python 3"
    }
  },
  "cells": [
    {
      "cell_type": "markdown",
      "metadata": {
        "id": "view-in-github",
        "colab_type": "text"
      },
      "source": [
        "<a href=\"https://colab.research.google.com/github/DousMoon/ml0804/blob/master/tools.ipynb\" target=\"_parent\"><img src=\"https://colab.research.google.com/assets/colab-badge.svg\" alt=\"Open In Colab\"/></a>"
      ]
    },
    {
      "cell_type": "code",
      "metadata": {
        "id": "iUFYZqSd4kiO",
        "colab_type": "code",
        "colab": {}
      },
      "source": [
        "!pip install opencc-python-reimplemented"
      ],
      "execution_count": null,
      "outputs": []
    },
    {
      "cell_type": "code",
      "metadata": {
        "id": "v5jwtXMl5fDS",
        "colab_type": "code",
        "colab": {}
      },
      "source": [
        "from opencc import OpenCC\n",
        "cc = OpenCC('s2twp')\n",
        "to_convert = '开放中文转换'\n",
        "convert = cc.convert(to_convert)\n",
        "convert"
      ],
      "execution_count": null,
      "outputs": []
    },
    {
      "cell_type": "code",
      "metadata": {
        "id": "yKU4KmVO8psH",
        "colab_type": "code",
        "colab": {}
      },
      "source": [
        "import jieba\n",
        "from urllib.request import urlretrieve\n",
        "url=\"https://github.com/fxsjy/jieba/raw/master/extra_dict/dict.txt.big\"\n",
        "urlretrieve(url, \"dict.txt.big\")\n",
        "jieba.set_dictionary(\"dict.txt.big\")\n",
        "\" \".join(jieba.cut(convert))"
      ],
      "execution_count": null,
      "outputs": []
    }
  ]
}