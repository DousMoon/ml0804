{
  "nbformat": 4,
  "nbformat_minor": 0,
  "metadata": {
    "colab": {
      "name": "poem.ipynb",
      "provenance": [],
      "private_outputs": true,
      "authorship_tag": "ABX9TyPFFMYXwXPyyJCwbjvQwQ6O",
      "include_colab_link": true
    },
    "kernelspec": {
      "name": "python3",
      "display_name": "Python 3"
    }
  },
  "cells": [
    {
      "cell_type": "markdown",
      "metadata": {
        "id": "view-in-github",
        "colab_type": "text"
      },
      "source": [
        "<a href=\"https://colab.research.google.com/github/DousMoon/ml0804/blob/master/poem.ipynb\" target=\"_parent\"><img src=\"https://colab.research.google.com/assets/colab-badge.svg\" alt=\"Open In Colab\"/></a>"
      ]
    },
    {
      "cell_type": "code",
      "metadata": {
        "id": "53rrjkorrwea",
        "colab_type": "code",
        "colab": {}
      },
      "source": [
        "import pandas as pd\n",
        "from urllib.request import urlretrieve\n",
        "url=\"https://github.com/Elwing-Chou/ml0804/raw/master/poem_train.csv\"\n",
        "urlretrieve(url,\"train.csv\")\n",
        "train_df = pd.read_csv(\"train.csv\",encoding=\"utf-8\")\n",
        "url=\"https://github.com/Elwing-Chou/ml0804/raw/master/poem_test.csv\"\n",
        "urlretrieve(url,\"test.csv\")\n",
        "test_df = pd.read_csv(\"test.csv\",encoding=\"utf-8\")\n",
        "train_df"
      ],
      "execution_count": null,
      "outputs": []
    },
    {
      "cell_type": "code",
      "metadata": {
        "id": "SoCtg7nzt7p3",
        "colab_type": "code",
        "colab": {}
      },
      "source": [
        "test_df"
      ],
      "execution_count": null,
      "outputs": []
    }
  ]
}