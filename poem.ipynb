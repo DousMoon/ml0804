{
  "nbformat": 4,
  "nbformat_minor": 0,
  "metadata": {
    "colab": {
      "name": "poem.ipynb",
      "provenance": [],
      "private_outputs": true,
      "authorship_tag": "ABX9TyNf3VwXsGyr1iCDIBkflDwo",
      "include_colab_link": true
    },
    "kernelspec": {
      "name": "python3",
      "display_name": "Python 3"
    }
  },
  "cells": [
    {
      "cell_type": "markdown",
      "metadata": {
        "id": "view-in-github",
        "colab_type": "text"
      },
      "source": [
        "<a href=\"https://colab.research.google.com/github/DousMoon/ml0804/blob/master/poem.ipynb\" target=\"_parent\"><img src=\"https://colab.research.google.com/assets/colab-badge.svg\" alt=\"Open In Colab\"/></a>"
      ]
    },
    {
      "cell_type": "code",
      "metadata": {
        "id": "53rrjkorrwea",
        "colab_type": "code",
        "colab": {}
      },
      "source": [
        "import pandas as pd\n",
        "from urllib.request import urlretrieve\n",
        "url=\"https://github.com/Elwing-Chou/ml0804/raw/master/poem_train.csv\"\n",
        "urlretrieve(url,\"train.csv\")\n",
        "train_df = pd.read_csv(\"train.csv\",encoding=\"utf-8\")\n",
        "url=\"https://github.com/Elwing-Chou/ml0804/raw/master/poem_test.csv\"\n",
        "urlretrieve(url,\"test.csv\")\n",
        "test_df = pd.read_csv(\"test.csv\",encoding=\"utf-8\")\n",
        "train_df"
      ],
      "execution_count": null,
      "outputs": []
    },
    {
      "cell_type": "code",
      "metadata": {
        "id": "SoCtg7nzt7p3",
        "colab_type": "code",
        "colab": {}
      },
      "source": [
        "test_df"
      ],
      "execution_count": null,
      "outputs": []
    },
    {
      "cell_type": "code",
      "metadata": {
        "id": "yUxwhjnPuRAu",
        "colab_type": "code",
        "colab": {}
      },
      "source": [
        "# 答案: Series.replace(\"李白\":0,\"杜甫\":1)\n",
        "# unique/value_counts\n",
        "u = train_df[\"作者\"].unique()\n",
        "trans = {n:i for i,n in enumerate(u)}\n",
        "trans_r = {i:n for i,n in enumerate(u)}\n",
        "y_train = train_df[\"作者\"].replace(trans)\n",
        "y_test = test_df[\"作者\"].replace(trans)\n",
        "y_test"
      ],
      "execution_count": null,
      "outputs": []
    },
    {
      "cell_type": "code",
      "metadata": {
        "id": "9iph8B6qwjU2",
        "colab_type": "code",
        "colab": {}
      },
      "source": [
        "# Series.apply(fune)\n",
        "import jieba\n",
        "def poemcut(p):\n",
        "  return \" \".join(jieba.cut(p))\n",
        "x_train = train_df[\"內容\"].apply(poemcut)\n",
        "x_test = test_df[\"內容\"].apply(poemcut)\n",
        "x_train"
      ],
      "execution_count": null,
      "outputs": []
    },
    {
      "cell_type": "code",
      "metadata": {
        "id": "PuMxC-a7zpRN",
        "colab_type": "code",
        "colab": {}
      },
      "source": [
        "from sklearn.feature_extraction.text import CountVectorizer\n",
        "vec = CountVectorizer()\n",
        "x_train_count = vec.fit_transform(x_train)\n",
        "x_test_count = vec.transform(x_test)"
      ],
      "execution_count": null,
      "outputs": []
    },
    {
      "cell_type": "code",
      "metadata": {
        "id": "ZAK4snCD1TrZ",
        "colab_type": "code",
        "colab": {}
      },
      "source": [
        "# x_train_count\n",
        "# vec.vocabulary_\n",
        "# 檢查過後,發現全行標點符號與換行符號都自動去掉了 \n",
        "# vec.vocabulary_[\"：\"]"
      ],
      "execution_count": null,
      "outputs": []
    }
  ]
}