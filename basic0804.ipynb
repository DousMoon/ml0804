{
  "nbformat": 4,
  "nbformat_minor": 0,
  "metadata": {
    "colab": {
      "name": "basic0804.ipynb",
      "provenance": [],
      "authorship_tag": "ABX9TyNcJp5AiHTV2H0YWg60rcSk",
      "include_colab_link": true
    },
    "kernelspec": {
      "name": "python3",
      "display_name": "Python 3"
    }
  },
  "cells": [
    {
      "cell_type": "markdown",
      "metadata": {
        "id": "view-in-github",
        "colab_type": "text"
      },
      "source": [
        "<a href=\"https://colab.research.google.com/github/DousMoon/ml0804/blob/master/basic0804.ipynb\" target=\"_parent\"><img src=\"https://colab.research.google.com/assets/colab-badge.svg\" alt=\"Open In Colab\"/></a>"
      ]
    },
    {
      "cell_type": "code",
      "metadata": {
        "id": "WxIK50Li_7_b",
        "colab_type": "code",
        "colab": {}
      },
      "source": [
        "import pandas as pd\n",
        "from sklearn.datasets import load_iris\n",
        "iris = load_iris()\n",
        "df = pd.DataFrame(iris[\"data\"],columns = iris[\"feature_names\"])\n",
        "df[\"ans\"] = iris[\"target\"]\n",
        "df"
      ],
      "execution_count": null,
      "outputs": []
    },
    {
      "cell_type": "code",
      "metadata": {
        "id": "hocnPiDIRsy-",
        "colab_type": "code",
        "colab": {
          "base_uri": "https://localhost:8080/",
          "height": 218
        },
        "outputId": "16ec88f7-8cd7-4a7c-cbcc-1844fceba1f5"
      },
      "source": [
        "x = df.drop([\"ans\"], axis=1)\n",
        "y = df[\"ans\"]\n",
        "y"
      ],
      "execution_count": 10,
      "outputs": [
        {
          "output_type": "execute_result",
          "data": {
            "text/plain": [
              "0      0\n",
              "1      0\n",
              "2      0\n",
              "3      0\n",
              "4      0\n",
              "      ..\n",
              "145    2\n",
              "146    2\n",
              "147    2\n",
              "148    2\n",
              "149    2\n",
              "Name: ans, Length: 150, dtype: int64"
            ]
          },
          "metadata": {
            "tags": []
          },
          "execution_count": 10
        }
      ]
    },
    {
      "cell_type": "code",
      "metadata": {
        "id": "Cmu6j-eMQ7p3",
        "colab_type": "code",
        "colab": {
          "base_uri": "https://localhost:8080/",
          "height": 991
        },
        "outputId": "ae36b383-76ff-481a-e60a-9e8ffbefdfd0"
      },
      "source": [
        "from sklearn.model_selection import train_test_split\n",
        "# [x_train, x_test, y_train, y_test]\n",
        "x_train, x_test, y_train, y_test = train_test_split(x, y, test_size = 0.1)"
      ],
      "execution_count": 11,
      "outputs": [
        {
          "output_type": "execute_result",
          "data": {
            "text/plain": [
              "[     sepal length (cm)  sepal width (cm)  petal length (cm)  petal width (cm)\n",
              " 140                6.7               3.1                5.6               2.4\n",
              " 52                 6.9               3.1                4.9               1.5\n",
              " 85                 6.0               3.4                4.5               1.6\n",
              " 121                5.6               2.8                4.9               2.0\n",
              " 51                 6.4               3.2                4.5               1.5\n",
              " ..                 ...               ...                ...               ...\n",
              " 132                6.4               2.8                5.6               2.2\n",
              " 104                6.5               3.0                5.8               2.2\n",
              " 142                5.8               2.7                5.1               1.9\n",
              " 122                7.7               2.8                6.7               2.0\n",
              " 26                 5.0               3.4                1.6               0.4\n",
              " \n",
              " [135 rows x 4 columns],\n",
              "      sepal length (cm)  sepal width (cm)  petal length (cm)  petal width (cm)\n",
              " 66                 5.6               3.0                4.5               1.5\n",
              " 79                 5.7               2.6                3.5               1.0\n",
              " 99                 5.7               2.8                4.1               1.3\n",
              " 30                 4.8               3.1                1.6               0.2\n",
              " 102                7.1               3.0                5.9               2.1\n",
              " 37                 4.9               3.6                1.4               0.1\n",
              " 106                4.9               2.5                4.5               1.7\n",
              " 128                6.4               2.8                5.6               2.1\n",
              " 89                 5.5               2.5                4.0               1.3\n",
              " 139                6.9               3.1                5.4               2.1\n",
              " 76                 6.8               2.8                4.8               1.4\n",
              " 19                 5.1               3.8                1.5               0.3\n",
              " 6                  4.6               3.4                1.4               0.3\n",
              " 98                 5.1               2.5                3.0               1.1\n",
              " 88                 5.6               3.0                4.1               1.3,\n",
              " 140    2\n",
              " 52     1\n",
              " 85     1\n",
              " 121    2\n",
              " 51     1\n",
              "       ..\n",
              " 132    2\n",
              " 104    2\n",
              " 142    2\n",
              " 122    2\n",
              " 26     0\n",
              " Name: ans, Length: 135, dtype: int64,\n",
              " 66     1\n",
              " 79     1\n",
              " 99     1\n",
              " 30     0\n",
              " 102    2\n",
              " 37     0\n",
              " 106    2\n",
              " 128    2\n",
              " 89     1\n",
              " 139    2\n",
              " 76     1\n",
              " 19     0\n",
              " 6      0\n",
              " 98     1\n",
              " 88     1\n",
              " Name: ans, dtype: int64]"
            ]
          },
          "metadata": {
            "tags": []
          },
          "execution_count": 11
        }
      ]
    }
  ]
}